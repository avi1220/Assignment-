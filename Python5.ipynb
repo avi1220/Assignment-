{
 "cells": [
  {
   "cell_type": "markdown",
   "metadata": {},
   "source": [
    "1. C\n",
    "2. D\n",
    "3. B\n",
    "4. D\n",
    "5. C\n",
    "6. D\n",
    "7. C\n",
    "8. C\n",
    "9. D\n",
    "10. D"
   ]
  },
  {
   "cell_type": "raw",
   "metadata": {},
   "source": [
    "11-\n",
    "\n",
    "LIST:\n",
    "\n",
    "1-List are mutable .i.e it can be converted into another data type and can store any data element in it.\n",
    "\n",
    "2-List can store any type of element.\n",
    "\n",
    "SET:\n",
    "\n",
    "1-Sets are an unordered collection of elements or unintended collection of items In python.\n",
    "\n",
    "2-Sets are mutable, however, only immutable objects can be stored in it.\n",
    "   "
   ]
  },
  {
   "cell_type": "markdown",
   "metadata": {},
   "source": [
    "#### 12."
   ]
  },
  {
   "cell_type": "code",
   "execution_count": 1,
   "metadata": {},
   "outputs": [
    {
     "name": "stdout",
     "output_type": "stream",
     "text": [
      "[121, 12321, 12321, 1234321]\n"
     ]
    }
   ],
   "source": [
    "list=[11,111,111,1111] \n",
    "for i in range(len(list)): \n",
    "    list[i]=list[i]**2 \n",
    "print(list) "
   ]
  },
  {
   "cell_type": "markdown",
   "metadata": {},
   "source": [
    "#### 13."
   ]
  },
  {
   "cell_type": "code",
   "execution_count": 2,
   "metadata": {},
   "outputs": [
    {
     "name": "stdout",
     "output_type": "stream",
     "text": [
      "[1, 11, 111, 1111]\n"
     ]
    }
   ],
   "source": [
    "duplicate = [1,11,111,1111,1111,111,11,1]\n",
    "list = [] \n",
    "for num in duplicate: \n",
    "    if num not in list: \n",
    "        list.append(num)\n",
    "print(list)"
   ]
  },
  {
   "cell_type": "markdown",
   "metadata": {},
   "source": [
    "#### 14."
   ]
  },
  {
   "cell_type": "code",
   "execution_count": 3,
   "metadata": {},
   "outputs": [
    {
     "name": "stdout",
     "output_type": "stream",
     "text": [
      "UNION between A and B : {1, 2, 3, 4, 5, 6, 8, 9}\n",
      "Intersection between A and B :  {1, 6}\n",
      "Difference :  {9, 3, 5}\n",
      "Symmetric difference :  {2, 3, 4, 5, 8, 9}\n"
     ]
    }
   ],
   "source": [
    "A = {1, 3, 5, 6, 9}; \n",
    "B = {1, 2, 4, 6, 8}; \n",
    "  \n",
    "# union \n",
    "print(\"UNION between A and B :\", A | B) \n",
    "  \n",
    "# intersection \n",
    "print(\"Intersection between A and B : \", A & B) \n",
    "  \n",
    "# difference \n",
    "print(\"Difference : \", A - B) \n",
    "  \n",
    "# symmetric difference \n",
    "print(\"Symmetric difference : \", A ^ B) "
   ]
  },
  {
   "cell_type": "markdown",
   "metadata": {},
   "source": [
    "#### 15."
   ]
  },
  {
   "cell_type": "code",
   "execution_count": 4,
   "metadata": {},
   "outputs": [
    {
     "name": "stdout",
     "output_type": "stream",
     "text": [
      "Before adding new element :  {'green', 'yellow', 'blue', 'black', 'pink'}\n",
      "after adding new element :  {'green', 'red', 'yellow', 'blue', 'black', 'pink'}\n"
     ]
    }
   ],
   "source": [
    "x={'blue','green','yellow','pink','black'}\n",
    "print(\"Before adding new element : \" ,x)\n",
    "x.add('red')\n",
    "print(\"after adding new element : \" ,x)"
   ]
  },
  {
   "cell_type": "code",
   "execution_count": null,
   "metadata": {},
   "outputs": [],
   "source": []
  }
 ],
 "metadata": {
  "kernelspec": {
   "display_name": "Python 3",
   "language": "python",
   "name": "python3"
  },
  "language_info": {
   "codemirror_mode": {
    "name": "ipython",
    "version": 3
   },
   "file_extension": ".py",
   "mimetype": "text/x-python",
   "name": "python",
   "nbconvert_exporter": "python",
   "pygments_lexer": "ipython3",
   "version": "3.7.4"
  }
 },
 "nbformat": 4,
 "nbformat_minor": 2
}
