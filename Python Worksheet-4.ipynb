{
 "cells": [
  {
   "cell_type": "markdown",
   "metadata": {},
   "source": [
    "1-B) len()\n",
    "\n",
    "2-B) interpreted\n",
    "\n",
    "3-B) [1,2,2,1]\n",
    "\n",
    "4-D) [60,30]\n",
    "\n",
    "5-C) a[ : :-1]\n",
    "\n",
    "6-B) Meena\n",
    "\n",
    "7-C) [“World Hello ”, “Python Hello ”, “World Adios ”, “Python Adios ”]\n",
    "\n",
    "8-A) 4\n",
    "\n",
    "9-A) l1+l2 D) l1.extend(l2)\n",
    "\n",
    "10-A) s[0]+s[-1] \n",
    "   B) s[ : : -1][-1] + s[len(s)-1] \n",
    "   D) s[ : : -1][ : : -6]\n",
    "\n",
    "\n"
   ]
  },
  {
   "cell_type": "markdown",
   "metadata": {},
   "source": [
    "11-\n",
    "Differences:-\n",
    "\n",
    "Interpreter\n",
    "\n",
    "a-Interpreter translates just one statement of the program at a time into machine code.\n",
    "\n",
    "b-An interpreter takes very less time to analyze the source code.However,the overall time to execute the process is much         slower.\n",
    "\n",
    "c-An interpreter does not generate an intermediary code. Hence, an interpreter is highly efficient in terms of its memory.\t\n",
    "\n",
    "d-Keeps translating the program continuously till the first error is confronted. If any error is spotted, it stops working and   hence debugging becomes easy.\n",
    "\n",
    "e-Interpreters are used by programming languages like Ruby and Python for example.\t\n",
    "\n",
    "Compiler:-\n",
    "\n",
    "a-Compiler scans the entire program and translates the whole of it into machine code at once.\n",
    "\n",
    "b-A compiler takes a lot of time to analyze the source code. However, the overall time taken to execute the process is much       faster.\n",
    "\n",
    "c-A compiler always generates an intermediary object code. It will need further linking. Hence more memory is needed.\n",
    "\n",
    "d-A compiler generates the error message only after it scans the complete program and hence debugging is relatively harder       while working with a compiler.\n",
    "\n",
    "e-Compliers are used by programming languages like C and C++ for example.\n",
    "\n",
    "\n",
    "Python is an interpreted language."
   ]
  },
  {
   "cell_type": "markdown",
   "metadata": {},
   "source": [
    "12-PYTHONPATH is an environment variable which can set to add additional directories where python will look for modules and \n",
    "   packages. For most installations, you should not set these variables since they are not needed for Python to run.\n",
    "   The only reason to set PYTHONPATH is to maintain directories of custom Python libraries that you do not want to install in      the global default location."
   ]
  },
  {
   "cell_type": "code",
   "execution_count": 1,
   "metadata": {},
   "outputs": [
    {
     "data": {
      "text/plain": [
       "'Hello  World   From Avinash'"
      ]
     },
     "execution_count": 1,
     "metadata": {},
     "output_type": "execute_result"
    }
   ],
   "source": [
    "# 13-\n",
    "# Python String is immutable, so we can’t change its value. Any function that manipulates string value returns \n",
    "# a new string and we have to explicitly assign it to the string, otherwise, the string value won’t change.\n",
    "\n",
    "# strip():\n",
    "# Python String strip() function will remove leading and trailing whitespaces.\n",
    "# If you want to remove only leading or trailing spaces, use lstrip() or rstrip() function instead.\n",
    "\n",
    "\n",
    "a = '  Hello  World   From Avinash   '\n",
    "a.strip()\n",
    "\n",
    "# o/p>>>\n",
    "# 'Hello  World   From Avinash'"
   ]
  },
  {
   "cell_type": "code",
   "execution_count": 2,
   "metadata": {},
   "outputs": [
    {
     "name": "stdout",
     "output_type": "stream",
     "text": [
      "Enter the number 12345\n",
      "(1x10*4)+(2x10*3)+(3x10*2)+(4x10*1)+(5x10*0)\n"
     ]
    }
   ],
   "source": [
    "# 14--Write a python program to represent a user entered number in expanded form.\n",
    "a=int(input(\"Enter the number \"))\n",
    "result = []\n",
    "for index, digit in enumerate(str(a)[::-1]):\n",
    "    if int(digit) != 0:\n",
    "        result.append(digit + ('0' * index))\n",
    "\n",
    "print('+'.join([ '({1}x10*{0})'.format(*t) for t in enumerate(str(a)[::-1]) ][::-1]))"
   ]
  },
  {
   "cell_type": "code",
   "execution_count": 3,
   "metadata": {},
   "outputs": [
    {
     "name": "stdout",
     "output_type": "stream",
     "text": [
      "Enter a number: 12345\n",
      "12345 is not an Armstrong number\n"
     ]
    }
   ],
   "source": [
    "#15-- Python program to check if the number is an Armstrong number or not\n",
    "\n",
    "# take input from the user\n",
    "num = int(input(\"Enter a number: \"))\n",
    "\n",
    "# initialize sum\n",
    "sum = 0\n",
    "\n",
    "# find the sum of the cube of each digit\n",
    "temp = num\n",
    "while temp > 0:\n",
    "   digit = temp % 10\n",
    "   sum += digit ** 3\n",
    "   temp //= 10\n",
    "\n",
    "# display the result\n",
    "if num == sum:\n",
    "   print(num,\"is an Armstrong number\")\n",
    "else:\n",
    "   print(num,\"is not an Armstrong number\")"
   ]
  },
  {
   "cell_type": "code",
   "execution_count": null,
   "metadata": {},
   "outputs": [],
   "source": []
  }
 ],
 "metadata": {
  "kernelspec": {
   "display_name": "Python 3",
   "language": "python",
   "name": "python3"
  },
  "language_info": {
   "codemirror_mode": {
    "name": "ipython",
    "version": 3
   },
   "file_extension": ".py",
   "mimetype": "text/x-python",
   "name": "python",
   "nbconvert_exporter": "python",
   "pygments_lexer": "ipython3",
   "version": "3.7.4"
  }
 },
 "nbformat": 4,
 "nbformat_minor": 2
}
